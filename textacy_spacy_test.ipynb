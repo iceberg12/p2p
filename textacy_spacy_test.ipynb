{
 "cells": [
  {
   "cell_type": "code",
   "execution_count": null,
   "metadata": {
    "collapsed": false,
    "deletable": true,
    "editable": true
   },
   "outputs": [],
   "source": [
    "import spacy"
   ]
  },
  {
   "cell_type": "code",
   "execution_count": null,
   "metadata": {
    "collapsed": true,
    "deletable": true,
    "editable": true
   },
   "outputs": [],
   "source": [
    "nlp = spacy.load('en_core_web_md')\n",
    "doc = nlp(u'Hello, world. Here are two sentences.')"
   ]
  },
  {
   "cell_type": "code",
   "execution_count": null,
   "metadata": {
    "collapsed": true,
    "deletable": true,
    "editable": true
   },
   "outputs": [],
   "source": [
    "texts = [u'One document.', u'...', u'Lots of documents']\n",
    "# .pipe streams input, and produces streaming output\n",
    "iter_texts = (texts[i % 3] for i in xrange(3))\n",
    "for i, doc in enumerate(nlp.pipe(iter_texts, batch_size=50, n_threads=4)):\n",
    "    assert doc.is_parsed\n",
    "    if i == 0:\n",
    "        break"
   ]
  },
  {
   "cell_type": "code",
   "execution_count": null,
   "metadata": {
    "collapsed": true,
    "deletable": true,
    "editable": true
   },
   "outputs": [],
   "source": [
    "doc = nlp(u'Hello, world. Here are two sentences.')\n",
    "token = doc[0]\n",
    "sentence = next(doc.sents)\n",
    "assert token is sentence[0]\n",
    "assert sentence.text == 'Hello, world.'"
   ]
  },
  {
   "cell_type": "code",
   "execution_count": null,
   "metadata": {
    "collapsed": true,
    "deletable": true,
    "editable": true
   },
   "outputs": [],
   "source": [
    "hello_id = nlp.vocab.strings['Hello']\n",
    "hello_str = nlp.vocab.strings[hello_id]\n",
    "\n",
    "assert token.orth  == hello_id  == 6747\n",
    "assert token.orth_ == hello_str == 'Hello'"
   ]
  },
  {
   "cell_type": "code",
   "execution_count": null,
   "metadata": {
    "collapsed": true,
    "deletable": true,
    "editable": true
   },
   "outputs": [],
   "source": [
    "from spacy.attrs import ORTH, LIKE_URL, IS_OOV\n",
    "\n",
    "attr_ids = [ORTH, LIKE_URL, IS_OOV]\n",
    "doc_array = doc.to_array(attr_ids)\n",
    "assert doc_array.shape == (len(doc), len(attr_ids))\n",
    "assert doc[0].orth == doc_array[0, 0]\n",
    "assert doc[1].orth == doc_array[1, 0]\n",
    "assert doc[0].like_url == doc_array[0, 1]\n",
    "assert list(doc_array[:, 1]) == [t.like_url for t in doc]"
   ]
  },
  {
   "cell_type": "code",
   "execution_count": null,
   "metadata": {
    "collapsed": true,
    "deletable": true,
    "editable": true
   },
   "outputs": [],
   "source": [
    "doc = nlp(u\"Apples and oranges are similar. Boots and hippos aren't.\")\n",
    "\n",
    "apples = doc[0]\n",
    "oranges = doc[2]\n",
    "boots = doc[6]\n",
    "hippos = doc[8]\n",
    "\n",
    "assert apples.similarity(oranges) > boots.similarity(hippos)"
   ]
  },
  {
   "cell_type": "code",
   "execution_count": null,
   "metadata": {
    "collapsed": false,
    "deletable": true,
    "editable": true
   },
   "outputs": [],
   "source": [
    "from spacy.parts_of_speech import ADV\n",
    "\n",
    "def is_adverb(token):\n",
    "    return token.pos == spacy.parts_of_speech.ADV\n",
    "def is_adjective(token):\n",
    "    return token.pos == spacy.parts_of_speech.ADJ\n",
    "\n",
    "# These are data-specific, so no constants are provided. You have to look\n",
    "# up the IDs from the StringStore.\n",
    "NNPS = nlp.vocab.strings['similar']\n",
    "sim = nlp.vocab.strings[NNPS]\n",
    "def is_plural_noun(token):\n",
    "    return token.tag == NNS or token.tag == NNPS\n",
    "\n",
    "def print_coarse_pos(token):\n",
    "    print(token.pos_)\n",
    "\n",
    "def print_fine_pos(token):\n",
    "    print(token.tag_)\n",
    "\n",
    "similar = doc[4]\n",
    "is_adjective(similar)\n",
    "#is_adjective(sim)"
   ]
  },
  {
   "cell_type": "code",
   "execution_count": null,
   "metadata": {
    "collapsed": false,
    "deletable": true,
    "editable": true
   },
   "outputs": [],
   "source": [
    "def dependency_labels_to_root(token):\n",
    "    '''Walk up the syntactic tree, collecting the arc labels.'''\n",
    "    dep_labels = []\n",
    "    while token.head is not token:\n",
    "        dep_labels.append(token.dep)\n",
    "        token = token.head\n",
    "    return dep_labels\n",
    "root_id = dependency_labels_to_root(similar)\n",
    "print(root_id)\n",
    "print(nlp.vocab.strings[root_id[0]])"
   ]
  },
  {
   "cell_type": "code",
   "execution_count": null,
   "metadata": {
    "collapsed": false,
    "deletable": true,
    "editable": true
   },
   "outputs": [],
   "source": [
    "hello_id = nlp.vocab.strings['Hello']\n",
    "hello_str = nlp.vocab.strings[394]\n",
    "print(hello_id)\n",
    "print(hello_str)"
   ]
  },
  {
   "cell_type": "code",
   "execution_count": null,
   "metadata": {
    "collapsed": false,
    "deletable": true,
    "editable": true
   },
   "outputs": [],
   "source": [
    "def put_spans_around_tokens(doc, get_classes):\n",
    "    \"\"\"Given some function to compute class names, put each token in a\n",
    "    span element, with the appropriate classes computed. All whitespace is\n",
    "    preserved, outside of the spans. (Of course, HTML won't display more than\n",
    "    one whitespace character it – but the point is, no information is lost\n",
    "    and you can calculate what you need, e.g. <br />, <p> etc.)\n",
    "    \"\"\"\n",
    "    output = []\n",
    "    html = '<span class=\"{classes}\">{word}</span>{space}'\n",
    "    for token in doc:\n",
    "        if token.is_space:\n",
    "            output.append(token.text)\n",
    "        else:\n",
    "            classes = ' '.join(get_classes(token))\n",
    "            output.append(html.format(classes=classes, word=token.text, space=token.whitespace_))\n",
    "    string = ''.join(output)\n",
    "    string = string.replace('\\n', '')\n",
    "    string = string.replace('\\t', '    ')\n",
    "    return string\n",
    "\n",
    "put_spans_around_tokens(doc, True)"
   ]
  },
  {
   "cell_type": "code",
   "execution_count": null,
   "metadata": {
    "collapsed": true,
    "deletable": true,
    "editable": true
   },
   "outputs": [],
   "source": [
    "from spacy.tokens.doc import Doc\n",
    "\n",
    "byte_string = doc.to_bytes()\n",
    "open('moby_dick.bin', 'wb').write(byte_string)\n",
    "\n",
    "for byte_string in Doc.read_bytes(open('moby_dick.bin', 'rb')):\n",
    "    doc = Doc(nlp.vocab)\n",
    "    doc.from_bytes(byte_string)"
   ]
  },
  {
   "cell_type": "code",
   "execution_count": null,
   "metadata": {
    "collapsed": false,
    "deletable": true,
    "editable": true
   },
   "outputs": [],
   "source": [
    "doc"
   ]
  },
  {
   "cell_type": "code",
   "execution_count": null,
   "metadata": {
    "collapsed": true,
    "deletable": true,
    "editable": true
   },
   "outputs": [],
   "source": []
  }
 ],
 "metadata": {
  "kernelspec": {
   "display_name": "Python 3",
   "language": "python",
   "name": "python3"
  },
  "language_info": {
   "codemirror_mode": {
    "name": "ipython",
    "version": 3
   },
   "file_extension": ".py",
   "mimetype": "text/x-python",
   "name": "python",
   "nbconvert_exporter": "python",
   "pygments_lexer": "ipython3",
   "version": "3.5.2"
  },
  "widgets": {
   "state": {},
   "version": "1.1.2"
  }
 },
 "nbformat": 4,
 "nbformat_minor": 2
}
