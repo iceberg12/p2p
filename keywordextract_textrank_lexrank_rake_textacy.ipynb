{
 "cells": [
  {
   "cell_type": "code",
   "execution_count": 1,
   "metadata": {
    "collapsed": false
   },
   "outputs": [],
   "source": [
    "# gensim\n",
    "from gensim.summarization import summarize, keywords\n",
    "import requests\n",
    "\n",
    "# sumy\n",
    "from sumy.nlp.tokenizers import Tokenizer\n",
    "from sumy.summarizers.text_rank import TextRankSummarizer\n",
    "from sumy.summarizers.lex_rank import LexRankSummarizer\n",
    "from sumy.parsers.plaintext import PlaintextParser\n",
    "from sumy.parsers.html import HtmlParser\n",
    "from sumy.nlp.stemmers import Stemmer\n",
    "from sumy.utils import get_stop_words\n",
    "\n",
    "# rake\n",
    "import RAKE\n",
    "\n",
    "# textacy & spacy\n",
    "import textacy"
   ]
  },
  {
   "cell_type": "markdown",
   "metadata": {},
   "source": [
    "## Sample Text"
   ]
  },
  {
   "cell_type": "code",
   "execution_count": 2,
   "metadata": {
    "collapsed": false
   },
   "outputs": [
    {
     "data": {
      "text/plain": [
       "'\\ntext = \"Compatibility of systems of linear constraints over the set of natural numbers. Criteria of compatibility \"        \"of a system of linear Diophantine equations, strict inequations, and nonstrict inequations are considered. \"        \"Upper bounds for components of a minimal set of solutions and algorithms of construction of minimal generating\"       \" sets of solutions for all types of systems are given. These criteria and the corresponding algorithms \"        \"for constructing a minimal supporting set of solutions can be used in solving all the considered types of \"        \"systems and systems of mixed types.\"\\n'"
      ]
     },
     "execution_count": 2,
     "metadata": {},
     "output_type": "execute_result"
    }
   ],
   "source": [
    "text = \"Thomas A. Anderson is a man living two lives. By day he is an \" + \\\n",
    "    \"average computer programmer and by night a hacker known as \" + \\\n",
    "    \"Neo. Neo has always questioned his reality, but the truth is \" + \\\n",
    "    \"far beyond his imagination. Neo finds himself targeted by the \" + \\\n",
    "    \"police when he is contacted by Morpheus, a legendary computer \" + \\\n",
    "    \"hacker branded a terrorist by the government. Morpheus awakens \" + \\\n",
    "    \"Neo to the real world, a ravaged wasteland where most of \" + \\\n",
    "    \"humanity have been captured by a race of machines that live \" + \\\n",
    "    \"off of the humans' body heat and electrochemical energy and \" + \\\n",
    "    \"who imprison their minds within an artificial reality known as \" + \\\n",
    "    \"the Matrix. As a rebel against the machines, Neo must return to \" + \\\n",
    "    \"the Matrix and confront the agents: super-powerful computer \" + \\\n",
    "    \"programs devoted to snuffing out Neo and the entire human \" + \\\n",
    "    \"rebellion. \"\n",
    "'''\n",
    "text = \"Compatibility of systems of linear constraints over the set of natural numbers. Criteria of compatibility \" \\\n",
    "       \"of a system of linear Diophantine equations, strict inequations, and nonstrict inequations are considered. \" \\\n",
    "       \"Upper bounds for components of a minimal set of solutions and algorithms of construction of minimal generating\"\\\n",
    "       \" sets of solutions for all types of systems are given. These criteria and the corresponding algorithms \" \\\n",
    "       \"for constructing a minimal supporting set of solutions can be used in solving all the considered types of \" \\\n",
    "       \"systems and systems of mixed types.\"\n",
    "'''\n",
    "#text = requests.get('http://rare-technologies.com/the_matrix_synopsis.txt').text"
   ]
  },
  {
   "cell_type": "markdown",
   "metadata": {},
   "source": [
    "#### TextRank Performance with Gensim Package"
   ]
  },
  {
   "cell_type": "code",
   "execution_count": 4,
   "metadata": {
    "collapsed": false
   },
   "outputs": [
    {
     "name": "stdout",
     "output_type": "stream",
     "text": [
      "Summary by sentences: \n",
      "By day he is an average computer programmer and by night a hacker known as Neo. Neo has always questioned his reality, but the truth is far beyond his imagination.\n",
      "Morpheus awakens Neo to the real world, a ravaged wasteland where most of humanity have been captured by a race of machines that live off of the humans' body heat and electrochemical energy and who imprison their minds within an artificial reality known as the Matrix.\n",
      "As a rebel against the machines, Neo must return to the Matrix and confront the agents: super-powerful computer programs devoted to snuffing out Neo and the entire human rebellion.\n",
      "\n",
      "Summary by keywords: \n",
      "['humanity', 'neo', 'super', 'reality', 'body', 'hacker known', 'real', 'world']\n"
     ]
    }
   ],
   "source": [
    "# textrank by gensim\n",
    "print('Summary by sentences: ' + '\\n' + summarize(text, ratio=0.5) + '\\n')\n",
    "print('Summary by keywords: ')\n",
    "print(keywords(text, lemmatize=True, pos_filter=['NN', 'VB', 'JJ'], ratio=0.3, split=True))"
   ]
  },
  {
   "cell_type": "markdown",
   "metadata": {},
   "source": [
    "#### TextRank / LexRank Performance with Sumy Package (output sentences only)"
   ]
  },
  {
   "cell_type": "code",
   "execution_count": 5,
   "metadata": {
    "collapsed": false
   },
   "outputs": [
    {
     "name": "stdout",
     "output_type": "stream",
     "text": [
      "Summary by sentences - Textrank: \n",
      "Neo finds himself targeted by the police when he is contacted by Morpheus, a legendary computer hacker branded a terrorist by the government. Morpheus awakens Neo to the real world, a ravaged wasteland where most of humanity have been captured by a race of machines that live off of the humans' body heat and electrochemical energy and who imprison their minds within an artificial reality known as the Matrix. As a rebel against the machines, Neo must return to the Matrix and confront the agents: super-powerful computer programs devoted to snuffing out Neo and the entire human rebellion.\n",
      "Summary by sentences - Lexrank: \n",
      "Thomas A. Anderson is a man living two lives. By day he is an average computer programmer and by night a hacker known as Neo. Neo has always questioned his reality, but the truth is far beyond his imagination.\n"
     ]
    }
   ],
   "source": [
    "LANG = 'english'\n",
    "parser = PlaintextParser.from_string(text, Tokenizer(LANG))\n",
    "\n",
    "stemmer = Stemmer(LANG)\n",
    "# textrank again by sumy\n",
    "summarizer_text = TextRankSummarizer(stemmer)\n",
    "summarizer_text.stop_words = get_stop_words(LANG)\n",
    "# lexrank by sumy\n",
    "summarizer_lex = LexRankSummarizer(stemmer)\n",
    "summarizer_lex.stop_words = get_stop_words(LANG)\n",
    "\n",
    "sentences = []\n",
    "for sentence in summarizer_text(parser.document, 3):\n",
    "    sentences.append(str(sentence))\n",
    "text_summary = ' '.join(sentences)\n",
    "print('Summary by sentences - Textrank: ' + '\\n' + text_summary)\n",
    "\n",
    "sentences = []\n",
    "for sentence in summarizer_lex(parser.document, 3):\n",
    "    sentences.append(str(sentence))\n",
    "text_summary = ' '.join(sentences)\n",
    "print('Summary by sentences - Lexrank: ' + '\\n' + text_summary)"
   ]
  },
  {
   "cell_type": "markdown",
   "metadata": {},
   "source": [
    "Possibly we can use other algorithms to extract keywords from this summary text."
   ]
  },
  {
   "cell_type": "markdown",
   "metadata": {},
   "source": [
    "#### TextRank Performance with Textacy - Spacy Package"
   ]
  },
  {
   "cell_type": "code",
   "execution_count": 49,
   "metadata": {
    "collapsed": false
   },
   "outputs": [
    {
     "data": {
      "text/plain": [
       "[('neo', 0.08317900318102962),\n",
       " ('computer', 0.04982129794755459),\n",
       " ('human', 0.03740628903358867),\n",
       " ('machine', 0.03417847716927454),\n",
       " ('reality', 0.03328732039735026),\n",
       " ('hacker', 0.032888080953631854),\n",
       " ('morpheus', 0.03267534012863888),\n",
       " ('matrix', 0.03259798518432622),\n",
       " ('a.', 0.02795078439275685),\n",
       " ('anderson', 0.026078648121652885)]"
      ]
     },
     "execution_count": 49,
     "metadata": {},
     "output_type": "execute_result"
    }
   ],
   "source": [
    "# textrank again, by textacy & spacy\n",
    "doc = textacy.Doc(text, lang='en')\n",
    "textacy.keyterms.textrank(doc, n_keyterms=10)"
   ]
  },
  {
   "cell_type": "markdown",
   "metadata": {},
   "source": [
    "#### Performance with RAKE Package"
   ]
  },
  {
   "cell_type": "code",
   "execution_count": 56,
   "metadata": {
    "collapsed": false
   },
   "outputs": [
    {
     "data": {
      "text/plain": [
       "[('super-powerful computer programs devoted', 15.666666666666666),\n",
       " ('legendary computer hacker branded', 14.166666666666666),\n",
       " ('average computer programmer', 9.666666666666666),\n",
       " ('entire human rebellion', 9.0),\n",
       " ('morpheus awakens neo', 6.5),\n",
       " ('body heat', 4.0),\n",
       " ('ravaged wasteland', 4.0),\n",
       " ('electrochemical energy', 4.0),\n",
       " ('real world', 4.0),\n",
       " ('man living', 4.0),\n",
       " ('neo finds', 3.5),\n",
       " ('artificial reality', 3.5),\n",
       " ('hacker', 2.5),\n",
       " ('morpheus', 2.0),\n",
       " ('reality', 1.5),\n",
       " ('neo', 1.5),\n",
       " ('imprison', 1.0),\n",
       " ('lives', 1.0),\n",
       " ('rebel', 1.0),\n",
       " ('race', 1.0)]"
      ]
     },
     "execution_count": 56,
     "metadata": {},
     "output_type": "execute_result"
    }
   ],
   "source": [
    "# rake\n",
    "rake = RAKE.Rake(RAKE.SmartStopList())\n",
    "rake.run(text)[0:20]\n",
    "#rake.run(suma)  # try to run on top of lexrank summary"
   ]
  }
 ],
 "metadata": {
  "kernelspec": {
   "display_name": "Python 3",
   "language": "python",
   "name": "python3"
  },
  "language_info": {
   "codemirror_mode": {
    "name": "ipython",
    "version": 3
   },
   "file_extension": ".py",
   "mimetype": "text/x-python",
   "name": "python",
   "nbconvert_exporter": "python",
   "pygments_lexer": "ipython3",
   "version": "3.5.2"
  }
 },
 "nbformat": 4,
 "nbformat_minor": 2
}
