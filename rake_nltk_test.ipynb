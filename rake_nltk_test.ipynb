{
 "cells": [
  {
   "cell_type": "code",
   "execution_count": 1,
   "metadata": {
    "collapsed": true,
    "deletable": true,
    "editable": true
   },
   "outputs": [],
   "source": [
    "# Reference: http://sujitpal.blogspot.sg/2013/03/implementing-rake-algorithm-with-nltk.html\n",
    "\n",
    "from __future__ import division\n",
    "import operator\n",
    "import nltk\n",
    "import string\n",
    "\n",
    "def isPunct(word):\n",
    "    return len(word) == 1 and word in string.punctuation\n",
    "\n",
    "def isNumeric(word):\n",
    "    try:\n",
    "        float(word) if '.' in word else int(word)\n",
    "        return True\n",
    "    except ValueError:\n",
    "        return False\n",
    "\n",
    "class RakeKeywordExtractor:\n",
    "\n",
    "    def __init__(self):\n",
    "        self.stopwords = set(nltk.corpus.stopwords.words())\n",
    "        self.top_fraction = 1 # consider top third candidate keywords by score\n",
    "\n",
    "    def _generate_candidate_keywords(self, sentences):\n",
    "        phrase_list = []\n",
    "        for sentence in sentences:\n",
    "            words = map(lambda x: \"|\" if x in self.stopwords else x,\n",
    "                nltk.word_tokenize(sentence.lower()))\n",
    "            phrase = []\n",
    "            for word in words:\n",
    "                if word == \"|\" or isPunct(word):\n",
    "                    if len(phrase) > 0:\n",
    "                        phrase_list.append(phrase)\n",
    "                        phrase = []\n",
    "                else:\n",
    "                    phrase.append(word)\n",
    "        return phrase_list\n",
    "\n",
    "    def _calculate_word_scores(self, phrase_list):\n",
    "        word_freq = nltk.FreqDist()\n",
    "        word_degree = nltk.FreqDist()\n",
    "        for phrase in phrase_list:\n",
    "            degree = len(filter(lambda x: not isNumeric(x), phrase)) - 1\n",
    "            for word in phrase:\n",
    "                word_freq[word] += 1\n",
    "                word_degree[word] += degree\n",
    "                #word_freq.inc(word)\n",
    "                #word_degree.inc(word, degree) # other words\n",
    "        for word in word_freq.keys():\n",
    "            word_degree[word] = word_degree[word] + word_freq[word] # itself\n",
    "        # word score = deg(w) / freq(w)\n",
    "        word_scores = {}\n",
    "        for word in word_freq.keys():\n",
    "            word_scores[word] = word_degree[word] / word_freq[word]\n",
    "        return word_scores\n",
    "\n",
    "    def _calculate_phrase_scores(self, phrase_list, word_scores):\n",
    "        phrase_scores = {}\n",
    "        for phrase in phrase_list:\n",
    "            phrase_score = 0\n",
    "            for word in phrase:\n",
    "                phrase_score += word_scores[word]\n",
    "            phrase_scores[\" \".join(phrase)] = phrase_score\n",
    "        return phrase_scores\n",
    "    \n",
    "    def extract(self, text, incl_scores=False):\n",
    "        sentences = nltk.sent_tokenize(text)\n",
    "        phrase_list = self._generate_candidate_keywords(sentences)\n",
    "        word_scores = self._calculate_word_scores(phrase_list)\n",
    "        phrase_scores = self._calculate_phrase_scores(\n",
    "            phrase_list, word_scores)\n",
    "        sorted_phrase_scores = sorted(phrase_scores.iteritems(),\n",
    "            key=operator.itemgetter(1), reverse=True)\n",
    "        n_phrases = len(sorted_phrase_scores)\n",
    "        if incl_scores:\n",
    "            return sorted_phrase_scores[0:int(n_phrases/self.top_fraction)]\n",
    "        else:\n",
    "            return map(lambda x: x[0],\n",
    "                sorted_phrase_scores[0:int(n_phrases/self.top_fraction)])\n",
    "\n",
    "def test():\n",
    "    rake = RakeKeywordExtractor()\n",
    "    keywords = rake.extract(\"\"\"Compatibility of systems of linear constraints over the set of natural numbers. Criteria of compatibility of a system of linear Diophantine \\equations, strict inequations, and nonstrict inequations are considered. Upper bounds for components of a minimal set of solutions and algorithms of construction of minimal generating sets of solutions for all types of systems are given. These criteria and the corresponding algorithms for constructing a minimal supporting set of solutions can be used in solving all the considered types of systems and systems of mixed types.\"\"\", incl_scores=True)\n",
    "    for key in keywords:\n",
    "        print(key)"
   ]
  },
  {
   "cell_type": "code",
   "execution_count": 2,
   "metadata": {
    "collapsed": false,
    "deletable": true,
    "editable": true
   },
   "outputs": [
    {
     "ename": "TypeError",
     "evalue": "object of type 'filter' has no len()",
     "output_type": "error",
     "traceback": [
      "\u001b[0;31m---------------------------------------------------------------------------\u001b[0m",
      "\u001b[0;31mTypeError\u001b[0m                                 Traceback (most recent call last)",
      "\u001b[0;32m<ipython-input-2-ea594c21b25d>\u001b[0m in \u001b[0;36m<module>\u001b[0;34m()\u001b[0m\n\u001b[0;32m----> 1\u001b[0;31m \u001b[0mtest\u001b[0m\u001b[0;34m(\u001b[0m\u001b[0;34m)\u001b[0m\u001b[0;34m\u001b[0m\u001b[0m\n\u001b[0m",
      "\u001b[0;32m<ipython-input-1-71740fb20579>\u001b[0m in \u001b[0;36mtest\u001b[0;34m()\u001b[0m\n\u001b[1;32m     81\u001b[0m \u001b[0;32mdef\u001b[0m \u001b[0mtest\u001b[0m\u001b[0;34m(\u001b[0m\u001b[0;34m)\u001b[0m\u001b[0;34m:\u001b[0m\u001b[0;34m\u001b[0m\u001b[0m\n\u001b[1;32m     82\u001b[0m     \u001b[0mrake\u001b[0m \u001b[0;34m=\u001b[0m \u001b[0mRakeKeywordExtractor\u001b[0m\u001b[0;34m(\u001b[0m\u001b[0;34m)\u001b[0m\u001b[0;34m\u001b[0m\u001b[0m\n\u001b[0;32m---> 83\u001b[0;31m     \u001b[0mkeywords\u001b[0m \u001b[0;34m=\u001b[0m \u001b[0mrake\u001b[0m\u001b[0;34m.\u001b[0m\u001b[0mextract\u001b[0m\u001b[0;34m(\u001b[0m\u001b[0;34m\"\"\"Compatibility of systems of linear constraints over the set of natural numbers. Criteria of compatibility of a system of linear Diophantine \\equations, strict inequations, and nonstrict inequations are considered. Upper bounds for components of a minimal set of solutions and algorithms of construction of minimal generating sets of solutions for all types of systems are given. These criteria and the corresponding algorithms for constructing a minimal supporting set of solutions can be used in solving all the considered types of systems and systems of mixed types.\"\"\"\u001b[0m\u001b[0;34m,\u001b[0m \u001b[0mincl_scores\u001b[0m\u001b[0;34m=\u001b[0m\u001b[0;32mTrue\u001b[0m\u001b[0;34m)\u001b[0m\u001b[0;34m\u001b[0m\u001b[0m\n\u001b[0m\u001b[1;32m     84\u001b[0m     \u001b[0;32mfor\u001b[0m \u001b[0mkey\u001b[0m \u001b[0;32min\u001b[0m \u001b[0mkeywords\u001b[0m\u001b[0;34m:\u001b[0m\u001b[0;34m\u001b[0m\u001b[0m\n\u001b[1;32m     85\u001b[0m         \u001b[0mprint\u001b[0m\u001b[0;34m(\u001b[0m\u001b[0mkey\u001b[0m\u001b[0;34m)\u001b[0m\u001b[0;34m\u001b[0m\u001b[0m\n",
      "\u001b[0;32m<ipython-input-1-71740fb20579>\u001b[0m in \u001b[0;36mextract\u001b[0;34m(self, text, incl_scores)\u001b[0m\n\u001b[1;32m     67\u001b[0m         \u001b[0msentences\u001b[0m \u001b[0;34m=\u001b[0m \u001b[0mnltk\u001b[0m\u001b[0;34m.\u001b[0m\u001b[0msent_tokenize\u001b[0m\u001b[0;34m(\u001b[0m\u001b[0mtext\u001b[0m\u001b[0;34m)\u001b[0m\u001b[0;34m\u001b[0m\u001b[0m\n\u001b[1;32m     68\u001b[0m         \u001b[0mphrase_list\u001b[0m \u001b[0;34m=\u001b[0m \u001b[0mself\u001b[0m\u001b[0;34m.\u001b[0m\u001b[0m_generate_candidate_keywords\u001b[0m\u001b[0;34m(\u001b[0m\u001b[0msentences\u001b[0m\u001b[0;34m)\u001b[0m\u001b[0;34m\u001b[0m\u001b[0m\n\u001b[0;32m---> 69\u001b[0;31m         \u001b[0mword_scores\u001b[0m \u001b[0;34m=\u001b[0m \u001b[0mself\u001b[0m\u001b[0;34m.\u001b[0m\u001b[0m_calculate_word_scores\u001b[0m\u001b[0;34m(\u001b[0m\u001b[0mphrase_list\u001b[0m\u001b[0;34m)\u001b[0m\u001b[0;34m\u001b[0m\u001b[0m\n\u001b[0m\u001b[1;32m     70\u001b[0m         phrase_scores = self._calculate_phrase_scores(\n\u001b[1;32m     71\u001b[0m             phrase_list, word_scores)\n",
      "\u001b[0;32m<ipython-input-1-71740fb20579>\u001b[0m in \u001b[0;36m_calculate_word_scores\u001b[0;34m(self, phrase_list)\u001b[0m\n\u001b[1;32m     41\u001b[0m         \u001b[0mword_degree\u001b[0m \u001b[0;34m=\u001b[0m \u001b[0mnltk\u001b[0m\u001b[0;34m.\u001b[0m\u001b[0mFreqDist\u001b[0m\u001b[0;34m(\u001b[0m\u001b[0;34m)\u001b[0m\u001b[0;34m\u001b[0m\u001b[0m\n\u001b[1;32m     42\u001b[0m         \u001b[0;32mfor\u001b[0m \u001b[0mphrase\u001b[0m \u001b[0;32min\u001b[0m \u001b[0mphrase_list\u001b[0m\u001b[0;34m:\u001b[0m\u001b[0;34m\u001b[0m\u001b[0m\n\u001b[0;32m---> 43\u001b[0;31m             \u001b[0mdegree\u001b[0m \u001b[0;34m=\u001b[0m \u001b[0mlen\u001b[0m\u001b[0;34m(\u001b[0m\u001b[0mfilter\u001b[0m\u001b[0;34m(\u001b[0m\u001b[0;32mlambda\u001b[0m \u001b[0mx\u001b[0m\u001b[0;34m:\u001b[0m \u001b[0;32mnot\u001b[0m \u001b[0misNumeric\u001b[0m\u001b[0;34m(\u001b[0m\u001b[0mx\u001b[0m\u001b[0;34m)\u001b[0m\u001b[0;34m,\u001b[0m \u001b[0mphrase\u001b[0m\u001b[0;34m)\u001b[0m\u001b[0;34m)\u001b[0m \u001b[0;34m-\u001b[0m \u001b[0;36m1\u001b[0m\u001b[0;34m\u001b[0m\u001b[0m\n\u001b[0m\u001b[1;32m     44\u001b[0m             \u001b[0;32mfor\u001b[0m \u001b[0mword\u001b[0m \u001b[0;32min\u001b[0m \u001b[0mphrase\u001b[0m\u001b[0;34m:\u001b[0m\u001b[0;34m\u001b[0m\u001b[0m\n\u001b[1;32m     45\u001b[0m                 \u001b[0mword_freq\u001b[0m\u001b[0;34m[\u001b[0m\u001b[0mword\u001b[0m\u001b[0;34m]\u001b[0m \u001b[0;34m+=\u001b[0m \u001b[0;36m1\u001b[0m\u001b[0;34m\u001b[0m\u001b[0m\n",
      "\u001b[0;31mTypeError\u001b[0m: object of type 'filter' has no len()"
     ]
    }
   ],
   "source": [
    "test()"
   ]
  },
  {
   "cell_type": "code",
   "execution_count": null,
   "metadata": {
    "collapsed": true,
    "deletable": true,
    "editable": true
   },
   "outputs": [],
   "source": []
  }
 ],
 "metadata": {
  "kernelspec": {
   "display_name": "Python 3",
   "language": "python",
   "name": "python3"
  },
  "language_info": {
   "codemirror_mode": {
    "name": "ipython",
    "version": 3
   },
   "file_extension": ".py",
   "mimetype": "text/x-python",
   "name": "python",
   "nbconvert_exporter": "python",
   "pygments_lexer": "ipython3",
   "version": "3.5.2"
  },
  "widgets": {
   "state": {},
   "version": "1.1.2"
  }
 },
 "nbformat": 4,
 "nbformat_minor": 2
}
